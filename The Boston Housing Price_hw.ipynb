{
 "cells": [
  {
   "cell_type": "code",
   "execution_count": 1,
   "metadata": {
    "id": "ElXhrT0yASXZ",
    "scrolled": true
   },
   "outputs": [
    {
     "name": "stderr",
     "output_type": "stream",
     "text": [
      "D:\\Anaconda\\lib\\site-packages\\scipy\\__init__.py:155: UserWarning: A NumPy version >=1.18.5 and <1.25.0 is required for this version of SciPy (detected version 1.26.4\n",
      "  warnings.warn(f\"A NumPy version >={np_minversion} and <{np_maxversion}\"\n"
     ]
    }
   ],
   "source": [
    "import keras\n",
    "import numpy as np\n",
    "import pandas as pd\n",
    "import matplotlib.pyplot as plt\n",
    "from sklearn.metrics import mean_absolute_error, mean_squared_error, mean_absolute_percentage_error\n",
    "from tensorflow.keras.metrics import MeanAbsoluteError, MeanAbsolutePercentageError, RootMeanSquaredError\n",
    "\n",
    "# 匯入資料集\n",
    "from tensorflow.keras.datasets import boston_housing\n",
    "# 切分特徵、目標\n",
    "(train_data, train_targets), (test_data, test_targets) = boston_housing.load_data()\n",
    "\n",
    "# 正規化&標準化\n",
    "mean = train_data.mean(axis=0)\n",
    "train_data -= mean\n",
    "std = train_data.std(axis=0)\n",
    "train_data /= std\n",
    "test_data -= mean\n",
    "test_data /= std\n",
    "\n",
    "def build_model():\n",
    "    model = keras.Sequential([\n",
    "        # 隱藏層 1\n",
    "        layers.Dense(128, activation=\"relu\"),\n",
    "        # 隱藏層 2\n",
    "        layers.Dense(64, activation=\"relu\"),\n",
    "        # 隱藏層 3\n",
    "        layers.Dense(64, activation=\"relu\"),\n",
    "        # 輸出層\n",
    "        layers.Dense(1)\n",
    "    ])\n",
    "\n",
    "    model.compile(optimizer=\"rmsprop\", loss=\"mse\", metrics=[MeanAbsoluteError(), MeanAbsolutePercentageError(), RootMeanSquaredError()])\n",
    "\n",
    "    return model"
   ]
  },
  {
   "cell_type": "markdown",
   "metadata": {
    "id": "gyoeWGQyASXa"
   },
   "source": [
    "**因為資料集較小，需要K-Fold驗證**"
   ]
  },
  {
   "cell_type": "code",
   "execution_count": 2,
   "metadata": {
    "colab": {
     "base_uri": "https://localhost:8080/"
    },
    "executionInfo": {
     "elapsed": 22973,
     "status": "ok",
     "timestamp": 1712127935079,
     "user": {
      "displayName": "asd asd",
      "userId": "01130884221395875875"
     },
     "user_tz": -480
    },
    "id": "c3JZ6sUwASXa",
    "outputId": "e39d1c91-465b-4282-a981-e4aaf9e81e6f"
   },
   "outputs": [
    {
     "name": "stdout",
     "output_type": "stream",
     "text": [
      "Processing fold #0\n",
      "Processing fold #1\n",
      "Processing fold #2\n",
      "Processing fold #3\n",
      "Mean MAE: 2.32912939786911\n",
      "Mean MAPE: 11.933897972106934\n",
      "Mean RMSE: 3.2457406520843506\n"
     ]
    }
   ],
   "source": [
    "# 導入模組\n",
    "from tensorflow.keras import layers\n",
    "\n",
    "# 定義 k 的值\n",
    "k = 4\n",
    "\n",
    "# 計算每個驗證集樣本數量\n",
    "num_val_samples = len(train_data) // k\n",
    "\n",
    "# 定義訓練的 epochs 數量\n",
    "num_epochs = 100\n",
    "\n",
    "# 用於儲存每個 fold 的模型評估指標\n",
    "all_mae = []\n",
    "all_mape = []\n",
    "all_rmse = []\n",
    "\n",
    "# 迴圈執行 k 次交叉驗證\n",
    "for i in range(k):\n",
    "     # 列印正在處理的 fold 編號\n",
    "     print(f\"Processing fold #{i}\")\n",
    "\n",
    "     # 從原始資料中劃分出驗證集資料和標籤\n",
    "     val_data = train_data[i * num_val_samples: (i + 1) * num_val_samples]\n",
    "     val_targets = train_targets[i * num_val_samples: (i + 1) * num_val_samples]\n",
    "\n",
    "     # 建立部分訓練資料集（將目前 fold 以外的所有資料合併起來）\n",
    "     partial_train_data = np.concatenate(\n",
    "         [train_data[:i * num_val_samples],\n",
    "          train_data[(i + 1) * num_val_samples:]],\n",
    "         axis=0)\n",
    "\n",
    "     # 建立部分訓練標籤（將目前 fold 以外的所有標籤合併）\n",
    "     partial_train_targets = np.concatenate(\n",
    "         [train_targets[:i * num_val_samples],\n",
    "          train_targets[(i + 1) * num_val_samples:]],\n",
    "         axis=0)\n",
    "\n",
    "     # 建立神經網路模型\n",
    "     model = build_model()\n",
    "\n",
    "     # 在部分訓練資料上訓練模型\n",
    "     model.fit(partial_train_data, partial_train_targets,\n",
    "               epochs=num_epochs, batch_size=16, verbose=0)\n",
    "\n",
    "     # 在驗證集上評估模型，取得指標\n",
    "     val_loss_and_metrics = model.evaluate(val_data, val_targets, verbose=0)\n",
    "     val_mae = val_loss_and_metrics[1] # 取得 MAE 值\n",
    "     val_mape = val_loss_and_metrics[2] # 取得 MAPE 值\n",
    "     val_rmse = val_loss_and_metrics[3] # 取得 RMSE 值\n",
    "     all_mae.append(val_mae) # 將 MAE 值加入到清單中\n",
    "     all_mape.append(val_mape)\n",
    "     all_rmse.append(val_rmse)\n",
    "# 計算平均值\n",
    "mean_mae = np.mean(all_mae)\n",
    "mean_mape = np.mean(all_mape)\n",
    "mean_rmse = np.mean(all_rmse)\n",
    "\n",
    "# 列印平均值\n",
    "print(\"Mean MAE:\", mean_mae)\n",
    "print(\"Mean MAPE:\", mean_mape)\n",
    "print(\"Mean RMSE:\", mean_rmse)"
   ]
  },
  {
   "cell_type": "markdown",
   "metadata": {
    "id": "E6b_0K3NASXb"
   },
   "source": [
    "**設置較大的epoch，並繪製圖表觀察，且保存每次Fold驗證**"
   ]
  },
  {
   "cell_type": "code",
   "execution_count": 3,
   "metadata": {
    "colab": {
     "base_uri": "https://localhost:8080/"
    },
    "executionInfo": {
     "elapsed": 251884,
     "status": "ok",
     "timestamp": 1712128186952,
     "user": {
      "displayName": "asd asd",
      "userId": "01130884221395875875"
     },
     "user_tz": -480
    },
    "id": "3poJE-MOASXb",
    "outputId": "63406512-6a4e-4242-b22e-a6049f3c95c9"
   },
   "outputs": [
    {
     "name": "stdout",
     "output_type": "stream",
     "text": [
      "Processing fold #0\n",
      "Processing fold #1\n",
      "Processing fold #2\n",
      "Processing fold #3\n"
     ]
    }
   ],
   "source": [
    "# 定義訓練的 epochs 數量\n",
    "num_epochs = 500\n",
    "\n",
    "# 用於儲存每個 fold 的 MAE.MAPE.RMSE 歷史記錄\n",
    "all_mae_histories = []\n",
    "\n",
    "# 迴圈執行 k 次交叉驗證\n",
    "for i in range(k):\n",
    "     # 列印正在處理的 fold 編號\n",
    "     print(f\"Processing fold #{i}\")\n",
    "\n",
    "     # 從原始資料中劃分出驗證集資料和標籤\n",
    "     val_data = train_data[i * num_val_samples: (i + 1) * num_val_samples]\n",
    "     val_targets = train_targets[i * num_val_samples: (i + 1) * num_val_samples]\n",
    "\n",
    "     # 建立部分訓練資料集（將目前 fold 以外的所有資料合併起來）\n",
    "     partial_train_data = np.concatenate(\n",
    "         [train_data[:i * num_val_samples],\n",
    "          train_data[(i + 1) * num_val_samples:]],\n",
    "         axis=0)\n",
    "\n",
    "     # 建立部分訓練標籤（將目前 fold 以外的所有標籤合併）\n",
    "     partial_train_targets = np.concatenate(\n",
    "         [train_targets[:i * num_val_samples],\n",
    "          train_targets[(i + 1) * num_val_samples:]],\n",
    "         axis=0)\n",
    "\n",
    "     # 建立神經網路模型\n",
    "     model = build_model()\n",
    "\n",
    "     # 在部分訓練資料上訓練模型，並記錄訓練過程中的 MAE 歷史\n",
    "     history = model.fit(partial_train_data, partial_train_targets,\n",
    "                         validation_data=(val_data, val_targets),\n",
    "                         epochs=num_epochs, batch_size=16, verbose=0)\n",
    "\n",
    "     # 取得每個 epoch 的驗證集 MAE 值，儲存到 all_mae_histories 中\n",
    "     mae_history = history.history[\"val_mean_absolute_error\"]\n",
    "     all_mae_histories.append(mae_history)"
   ]
  },
  {
   "cell_type": "code",
   "execution_count": 4,
   "metadata": {
    "colab": {
     "base_uri": "https://localhost:8080/",
     "height": 449
    },
    "executionInfo": {
     "elapsed": 19,
     "status": "ok",
     "timestamp": 1712128186952,
     "user": {
      "displayName": "asd asd",
      "userId": "01130884221395875875"
     },
     "user_tz": -480
    },
    "id": "CO7epKgjASXc",
    "outputId": "e08dba95-7e1e-422c-fb65-c9f65586120c"
   },
   "outputs": [
    {
     "data": {
      "image/png": "[encoded data removed]",
      "text/plain": [
       "<Figure size 640x480 with 1 Axes>"
      ]
     },
     "metadata": {},
     "output_type": "display_data"
    }
   ],
   "source": [
    "#繪製圖表\n",
    "average_mae_history = [\n",
    "    np.mean([x[i] for x in all_mae_histories]) for i in range(num_epochs)]\n",
    "plt.plot(range(1, len(average_mae_history) + 1), average_mae_history)\n",
    "plt.xlabel(\"Epochs\")\n",
    "plt.ylabel(\"Validation MAE\")\n",
    "plt.show()"
   ]
  },
  {
   "cell_type": "code",
   "execution_count": 5,
   "metadata": {
    "colab": {
     "base_uri": "https://localhost:8080/"
    },
    "executionInfo": {
     "elapsed": 462,
     "status": "ok",
     "timestamp": 1712128187410,
     "user": {
      "displayName": "asd asd",
      "userId": "01130884221395875875"
     },
     "user_tz": -480
    },
    "id": "qsu_pI2sX4vs",
    "outputId": "74411541-402e-4ccd-b1ac-67988b1facda"
   },
   "outputs": [
    {
     "name": "stdout",
     "output_type": "stream",
     "text": [
      "\u001b[1m4/4\u001b[0m \u001b[32m━━━━━━━━━━━━━━━━━━━━\u001b[0m\u001b[37m\u001b[0m \u001b[1m0s\u001b[0m 4ms/step - loss: 19.0511 - mean_absolute_error: 2.7146 - mean_absolute_percentage_error: 13.0185 - root_mean_squared_error: 3.5942\n",
      "[31.364225387573242, 2.892301559448242, 13.805865287780762, 4.053891658782959]\n"
     ]
    }
   ],
   "source": [
    "test_scores = model.evaluate(test_data, test_targets)\n",
    "print(test_scores)"
   ]
  },
  {
   "cell_type": "code",
   "execution_count": 6,
   "metadata": {
    "colab": {
     "base_uri": "https://localhost:8080/"
    },
    "executionInfo": {
     "elapsed": 4854,
     "status": "ok",
     "timestamp": 1712128192262,
     "user": {
      "displayName": "asd asd",
      "userId": "01130884221395875875"
     },
     "user_tz": -480
    },
    "id": "lHqX2ghRASXc",
    "outputId": "691b8d0a-ef35-48d0-dbf3-0eb1f8aba716"
   },
   "outputs": [
    {
     "name": "stdout",
     "output_type": "stream",
     "text": [
      "\u001b[1m4/4\u001b[0m \u001b[32m━━━━━━━━━━━━━━━━━━━━\u001b[0m\u001b[37m\u001b[0m \u001b[1m0s\u001b[0m 2ms/step - loss: 15.2362 - mean_absolute_error: 2.3191 - mean_absolute_percentage_error: 12.0880 - root_mean_squared_error: 3.1688\n",
      "\u001b[1m13/13\u001b[0m \u001b[32m━━━━━━━━━━━━━━━━━━━━\u001b[0m\u001b[37m\u001b[0m \u001b[1m0s\u001b[0m 1ms/step - loss: 3.2975 - mean_absolute_error: 1.3374 - mean_absolute_percentage_error: 6.5989 - root_mean_squared_error: 1.8110 \n",
      "Train Loss: 3.6462037563323975\n",
      "Train MAE: 1.4397270679473877\n",
      "Train MAPE: 7.052082538604736\n",
      "Train RMSE: 1.924911379814148\n",
      "----------------------------------\n",
      "Test Loss: 26.006988525390625\n",
      "Test MAE: 2.5504629611968994\n",
      "Test MAPE: 13.429988861083984\n",
      "Test RMSE: 3.694955587387085\n"
     ]
    }
   ],
   "source": [
    "# 訓練最終模型\n",
    "model = build_model()\n",
    "model.fit(train_data, train_targets, epochs=130, batch_size=32, verbose=0)\n",
    "\n",
    "# 使用 model.evaluate() 取得測試集的指標\n",
    "test_scores = model.evaluate(test_data, test_targets)\n",
    "\n",
    "# 使用 model.evaluate() 取得訓練集的指標\n",
    "train_scores = model.evaluate(train_data, train_targets)\n",
    "\n",
    "# 列印訓練集的指標\n",
    "print(\"Train Loss:\", train_scores[0])\n",
    "print(\"Train MAE:\", train_scores[1])\n",
    "print(\"Train MAPE:\", train_scores[2])\n",
    "print(\"Train RMSE:\", train_scores[3])\n",
    "print(\"----------------------------------\")\n",
    "# 列印測試集的指標\n",
    "print(\"Test Loss:\", test_scores[0])\n",
    "print(\"Test MAE:\", test_scores[1])\n",
    "print(\"Test MAPE:\", test_scores[2])\n",
    "print(\"Test RMSE:\", test_scores[3])"
   ]
  },
  {
   "cell_type": "code",
   "execution_count": 7,
   "metadata": {
    "colab": {
     "base_uri": "https://localhost:8080/"
    },
    "executionInfo": {
     "elapsed": 592,
     "status": "ok",
     "timestamp": 1712128192842,
     "user": {
      "displayName": "asd asd",
      "userId": "01130884221395875875"
     },
     "user_tz": -480
    },
    "id": "kbrWnFsZQfNh",
    "outputId": "335079c3-057d-4c98-970b-4aa381f893a5"
   },
   "outputs": [
    {
     "name": "stdout",
     "output_type": "stream",
     "text": [
      "\u001b[1m4/4\u001b[0m \u001b[32m━━━━━━━━━━━━━━━━━━━━\u001b[0m\u001b[37m\u001b[0m \u001b[1m0s\u001b[0m 11ms/step\n",
      "實際值\t\t預測值\n",
      "7.2\t8.742086410522461\n",
      "18.8\t19.28753662109375\n",
      "19.0\t21.489946365356445\n",
      "27.0\t32.679481506347656\n",
      "22.2\t25.069978713989258\n",
      "24.5\t22.55161476135254\n",
      "31.2\t30.134328842163086\n",
      "22.9\t23.12787437438965\n",
      "20.5\t19.393857955932617\n",
      "23.2\t21.929960250854492\n"
     ]
    }
   ],
   "source": [
    "# 設定要列印的行數\n",
    "num_rows_to_print = 10\n",
    "\n",
    "# 使用訓練好的模型對測試集進行預測\n",
    "predictions = model.predict(test_data)\n",
    "\n",
    "# 列印實際值和預測值\n",
    "print(\"實際值\\t\\t預測值\")\n",
    "for i in range(num_rows_to_print):\n",
    "    print(f\"{test_targets[i]}\\t{predictions[i][0]}\")"
   ]
  }
 ],
 "metadata": {
  "colab": {
   "provenance": []
  },
  "kernelspec": {
   "display_name": "Python 3 (ipykernel)",
   "language": "python",
   "name": "python3"
  },
  "language_info": {
   "codemirror_mode": {
    "name": "ipython",
    "version": 3
   },
   "file_extension": ".py",
   "mimetype": "text/x-python",
   "name": "python",
   "nbconvert_exporter": "python",
   "pygments_lexer": "ipython3",
   "version": "3.9.13"
  }
 },
 "nbformat": 4,
 "nbformat_minor": 1
}
