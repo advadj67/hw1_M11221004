{
 "cells": [
  {
   "cell_type": "code",
   "execution_count": 1,
   "metadata": {
    "executionInfo": {
     "elapsed": 666,
     "status": "ok",
     "timestamp": 1712224608344,
     "user": {
      "displayName": "asd asd",
      "userId": "01130884221395875875"
     },
     "user_tz": -480
    },
    "id": "4t0gcKX_2XR8",
    "scrolled": true
   },
   "outputs": [
    {
     "name": "stderr",
     "output_type": "stream",
     "text": [
      "D:\\Anaconda\\lib\\site-packages\\scipy\\__init__.py:155: UserWarning: A NumPy version >=1.18.5 and <1.25.0 is required for this version of SciPy (detected version 1.26.4\n",
      "  warnings.warn(f\"A NumPy version >={np_minversion} and <{np_maxversion}\"\n"
     ]
    }
   ],
   "source": [
    "import keras\n",
    "import numpy as np\n",
    "import pandas as pd\n",
    "import matplotlib.pyplot as plt\n",
    "\n",
    "#匯入訓練集\n",
    "train_data = pd.read_csv('adult.data', header=None) # 如果資料檔案沒有列標題，則將 header 參數設為 None\n",
    "#更改欄位名稱\n",
    "\n",
    "train_data.columns = ['age', 'workclass','fnlwgt','education','education-num','marital-status',\n",
    "                       'occupation','relationship','race','sex','capital-gain','capital-loss',\n",
    "                      'hours-per-week','native-country','income']\n",
    "\n",
    "#匯入測試集\n",
    "test_data = pd.read_csv('adult.test', header=None,skiprows=1)  # 如果資料檔案沒有列標題，則將 header 參數設為 None\n",
    "#更改欄位名稱\n",
    "\n",
    "test_data.columns = ['age', 'workclass','fnlwgt','education','education-num','marital-status',\n",
    "                      'occupation','relationship','race','sex','capital-gain','capital-loss',\n",
    "                     'hours-per-week','native-country','income']\n",
    "\n",
    "#處理缺失值\n",
    "\n",
    "#訓練集\n",
    "#已知有缺失值欄位為\"workclass\",\"occupation\",\"native-country\"\n",
    "missing_columns = ['workclass', 'occupation', 'native-country']\n",
    "#將\"?\"取代成NaN\n",
    "train_data.replace(\" ?\", np.nan, inplace=True)\n",
    "#計算名目資料的眾數\n",
    "column_modes = train_data[missing_columns].mode().iloc[0]\n",
    "#使用眾數填充缺失值\n",
    "train_data.fillna(column_modes, inplace=True)\n",
    "\n",
    "#測試集\n",
    "#已知有缺失值欄位為\"workclass\",\"occupation\",\"native-country\"\n",
    "missing_columns = ['workclass', 'occupation', 'native-country']\n",
    "#將\"?\"取代成NaN\n",
    "test_data.replace(\" ?\", np.nan, inplace=True)\n",
    "#計算名目資料的眾數\n",
    "column_modes = test_data[missing_columns].mode().iloc[0]\n",
    "#使用眾數填充缺失值\n",
    "test_data.fillna(column_modes, inplace=True)"
   ]
  },
  {
   "cell_type": "code",
   "execution_count": 2,
   "metadata": {
    "colab": {
     "base_uri": "https://localhost:8080/"
    },
    "executionInfo": {
     "elapsed": 7,
     "status": "ok",
     "timestamp": 1712224608344,
     "user": {
      "displayName": "asd asd",
      "userId": "01130884221395875875"
     },
     "user_tz": -480
    },
    "id": "6TsOzs2l4HkU",
    "outputId": "f4d93f3a-2909-41c0-cd23-acdd34c20d70"
   },
   "outputs": [
    {
     "name": "stdout",
     "output_type": "stream",
     "text": [
      "age               0\n",
      "workclass         0\n",
      "fnlwgt            0\n",
      "education         0\n",
      "education-num     0\n",
      "marital-status    0\n",
      "occupation        0\n",
      "relationship      0\n",
      "race              0\n",
      "sex               0\n",
      "capital-gain      0\n",
      "capital-loss      0\n",
      "hours-per-week    0\n",
      "native-country    0\n",
      "income            0\n",
      "dtype: int64\n",
      "----------------\n",
      "age               0\n",
      "workclass         0\n",
      "fnlwgt            0\n",
      "education         0\n",
      "education-num     0\n",
      "marital-status    0\n",
      "occupation        0\n",
      "relationship      0\n",
      "race              0\n",
      "sex               0\n",
      "capital-gain      0\n",
      "capital-loss      0\n",
      "hours-per-week    0\n",
      "native-country    0\n",
      "income            0\n",
      "dtype: int64\n"
     ]
    }
   ],
   "source": [
    "#檢查缺失值\n",
    "train_data_missing = train_data.isnull().sum()\n",
    "test_data_missing = train_data.isnull().sum()\n",
    "print(train_data_missing)\n",
    "print(\"----------------\")\n",
    "print(test_data_missing)"
   ]
  },
  {
   "cell_type": "code",
   "execution_count": 3,
   "metadata": {
    "colab": {
     "base_uri": "https://localhost:8080/"
    },
    "executionInfo": {
     "elapsed": 5,
     "status": "ok",
     "timestamp": 1712224608344,
     "user": {
      "displayName": "asd asd",
      "userId": "01130884221395875875"
     },
     "user_tz": -480
    },
    "id": "XKI6z7xhLOTb",
    "outputId": "f8b7bb2f-0116-4b98-9c76-1a4f1dda2c48"
   },
   "outputs": [
    {
     "name": "stdout",
     "output_type": "stream",
     "text": [
      "[' <=50K' ' >50K']\n",
      "[' <=50K.' ' >50K.']\n"
     ]
    }
   ],
   "source": [
    "#檢查兩個資料集的\"income\"欄位\n",
    "unique_values = train_data['income'].unique()\n",
    "print(unique_values)\n",
    "\n",
    "unique_values = test_data['income'].unique()\n",
    "print(unique_values)"
   ]
  },
  {
   "cell_type": "code",
   "execution_count": 4,
   "metadata": {
    "executionInfo": {
     "elapsed": 4,
     "status": "ok",
     "timestamp": 1712224608344,
     "user": {
      "displayName": "asd asd",
      "userId": "01130884221395875875"
     },
     "user_tz": -480
    },
    "id": "bcjkxhpMLi1U"
   },
   "outputs": [],
   "source": [
    "# income欄位處理\n",
    "income_mapping = {\n",
    "     \" >50K\": \">50K\",\n",
    "    \" >50K.\": \">50K\",\n",
    "    \" <=50K\": \"<=50K\",\n",
    "    \" <=50K.\": \"<=50K\"\n",
    "}\n",
    "for column in ['income']:\n",
    "    train_data[column] = train_data[column].replace(income_mapping)\n",
    "    test_data[column] = test_data[column].replace(income_mapping)"
   ]
  },
  {
   "cell_type": "code",
   "execution_count": 5,
   "metadata": {
    "executionInfo": {
     "elapsed": 3,
     "status": "ok",
     "timestamp": 1712224608344,
     "user": {
      "displayName": "asd asd",
      "userId": "01130884221395875875"
     },
     "user_tz": -480
    },
    "id": "HBTj5PcnJVKs"
   },
   "outputs": [],
   "source": [
    "# 進行編碼，將名目資料轉成數值資料\n",
    "from sklearn.preprocessing import LabelEncoder\n",
    "\n",
    "# 訓練集進行 Label Encoding 的列名\n",
    "columns_to_encode = ['sex','workclass', 'education', 'marital-status', 'occupation', 'relationship', 'race', 'native-country', 'income']\n",
    "\n",
    "# 建立 LabelEncoder 對象\n",
    "label_encoder = LabelEncoder()\n",
    "\n",
    "# 對指定欄位進行 Label Encoding，並將結果取代原始數據\n",
    "encoded_data = train_data.copy() # 複製原始數據，避免修改原始數據\n",
    "for column in columns_to_encode:\n",
    "     # 對目前列進行 Label Encoding\n",
    "     encoded_column = label_encoder.fit_transform(train_data[column])\n",
    "     # 將 Label 編碼後的結果取代原始資料中的對應列\n",
    "     encoded_data[column] = encoded_column\n",
    "\n",
    "# 替換原始數據\n",
    "train_data = encoded_data\n",
    "\n",
    "from sklearn.preprocessing import LabelEncoder\n",
    "\n",
    "# 測試集進行 Label Encoding 的列名\n",
    "columns_to_encode = ['sex', 'workclass', 'education', 'marital-status', 'occupation', 'relationship', 'race', 'native-country', 'income']\n",
    "\n",
    "# 建立 LabelEncoder 對象\n",
    "label_encoder = LabelEncoder()\n",
    "\n",
    "# 對指定欄位進行 Label Encoding，並將結果取代原始數據\n",
    "encoded_data = test_data.copy() # 複製原始數據，避免修改原始數據\n",
    "for column in columns_to_encode:\n",
    "     # 對目前列進行 Label Encoding\n",
    "     encoded_column = label_encoder.fit_transform(test_data[column])\n",
    "     # 將 Label 編碼後的結果取代原始資料中的對應列\n",
    "     encoded_data[column] = encoded_column\n",
    "\n",
    "# 替換原始數據\n",
    "test_data = encoded_data"
   ]
  },
  {
   "cell_type": "code",
   "execution_count": 6,
   "metadata": {
    "colab": {
     "base_uri": "https://localhost:8080/"
    },
    "executionInfo": {
     "elapsed": 614,
     "status": "ok",
     "timestamp": 1712224608955,
     "user": {
      "displayName": "asd asd",
      "userId": "01130884221395875875"
     },
     "user_tz": -480
    },
    "id": "0pIZ5368tauj",
    "outputId": "bf95fb4a-7edb-45ba-c699-e5e8bd8dd2b2",
    "scrolled": false
   },
   "outputs": [
    {
     "name": "stdout",
     "output_type": "stream",
     "text": [
      "<class 'pandas.core.frame.DataFrame'>\n",
      "RangeIndex: 32561 entries, 0 to 32560\n",
      "Data columns (total 15 columns):\n",
      " #   Column          Non-Null Count  Dtype\n",
      "---  ------          --------------  -----\n",
      " 0   age             32561 non-null  int64\n",
      " 1   workclass       32561 non-null  int32\n",
      " 2   fnlwgt          32561 non-null  int64\n",
      " 3   education       32561 non-null  int32\n",
      " 4   education-num   32561 non-null  int64\n",
      " 5   marital-status  32561 non-null  int32\n",
      " 6   occupation      32561 non-null  int32\n",
      " 7   relationship    32561 non-null  int32\n",
      " 8   race            32561 non-null  int32\n",
      " 9   sex             32561 non-null  int32\n",
      " 10  capital-gain    32561 non-null  int64\n",
      " 11  capital-loss    32561 non-null  int64\n",
      " 12  hours-per-week  32561 non-null  int64\n",
      " 13  native-country  32561 non-null  int32\n",
      " 14  income          32561 non-null  int32\n",
      "dtypes: int32(9), int64(6)\n",
      "memory usage: 2.6 MB\n",
      "---------------------------------------------------\n",
      "<class 'pandas.core.frame.DataFrame'>\n",
      "RangeIndex: 16281 entries, 0 to 16280\n",
      "Data columns (total 15 columns):\n",
      " #   Column          Non-Null Count  Dtype\n",
      "---  ------          --------------  -----\n",
      " 0   age             16281 non-null  int64\n",
      " 1   workclass       16281 non-null  int32\n",
      " 2   fnlwgt          16281 non-null  int64\n",
      " 3   education       16281 non-null  int32\n",
      " 4   education-num   16281 non-null  int64\n",
      " 5   marital-status  16281 non-null  int32\n",
      " 6   occupation      16281 non-null  int32\n",
      " 7   relationship    16281 non-null  int32\n",
      " 8   race            16281 non-null  int32\n",
      " 9   sex             16281 non-null  int32\n",
      " 10  capital-gain    16281 non-null  int64\n",
      " 11  capital-loss    16281 non-null  int64\n",
      " 12  hours-per-week  16281 non-null  int64\n",
      " 13  native-country  16281 non-null  int32\n",
      " 14  income          16281 non-null  int32\n",
      "dtypes: int32(9), int64(6)\n",
      "memory usage: 1.3 MB\n"
     ]
    }
   ],
   "source": [
    "#查看資料情況，確認資料類型轉換完成\n",
    "train_data.info()\n",
    "print(\"---------------------------------------------------\")\n",
    "test_data.info()"
   ]
  },
  {
   "cell_type": "code",
   "execution_count": 7,
   "metadata": {
    "colab": {
     "base_uri": "https://localhost:8080/",
     "height": 337
    },
    "executionInfo": {
     "elapsed": 9,
     "status": "ok",
     "timestamp": 1712224608956,
     "user": {
      "displayName": "asd asd",
      "userId": "01130884221395875875"
     },
     "user_tz": -480
    },
    "id": "hJAevoUYBYDR",
    "outputId": "7b527a6f-e98f-403a-d453-b13c413391b1",
    "scrolled": true
   },
   "outputs": [
    {
     "data": {
      "text/html": [
       "<div>\n",
       "<style scoped>\n",
       "    .dataframe tbody tr th:only-of-type {\n",
       "        vertical-align: middle;\n",
       "    }\n",
       "\n",
       "    .dataframe tbody tr th {\n",
       "        vertical-align: top;\n",
       "    }\n",
       "\n",
       "    .dataframe thead th {\n",
       "        text-align: right;\n",
       "    }\n",
       "</style>\n",
       "<table border=\"1\" class=\"dataframe\">\n",
       "  <thead>\n",
       "    <tr style=\"text-align: right;\">\n",
       "      <th></th>\n",
       "      <th>age</th>\n",
       "      <th>workclass</th>\n",
       "      <th>fnlwgt</th>\n",
       "      <th>education</th>\n",
       "      <th>education-num</th>\n",
       "      <th>marital-status</th>\n",
       "      <th>occupation</th>\n",
       "      <th>relationship</th>\n",
       "      <th>race</th>\n",
       "      <th>sex</th>\n",
       "      <th>capital-gain</th>\n",
       "      <th>capital-loss</th>\n",
       "      <th>hours-per-week</th>\n",
       "      <th>native-country</th>\n",
       "      <th>income</th>\n",
       "    </tr>\n",
       "  </thead>\n",
       "  <tbody>\n",
       "    <tr>\n",
       "      <th>count</th>\n",
       "      <td>32561.000000</td>\n",
       "      <td>32561.000000</td>\n",
       "      <td>3.256100e+04</td>\n",
       "      <td>32561.000000</td>\n",
       "      <td>32561.000000</td>\n",
       "      <td>32561.000000</td>\n",
       "      <td>32561.000000</td>\n",
       "      <td>32561.000000</td>\n",
       "      <td>32561.000000</td>\n",
       "      <td>32561.000000</td>\n",
       "      <td>32561.000000</td>\n",
       "      <td>32561.000000</td>\n",
       "      <td>32561.000000</td>\n",
       "      <td>32561.000000</td>\n",
       "      <td>32561.000000</td>\n",
       "    </tr>\n",
       "    <tr>\n",
       "      <th>mean</th>\n",
       "      <td>38.581647</td>\n",
       "      <td>3.094438</td>\n",
       "      <td>1.897784e+05</td>\n",
       "      <td>10.298210</td>\n",
       "      <td>10.080679</td>\n",
       "      <td>2.611836</td>\n",
       "      <td>6.138755</td>\n",
       "      <td>1.446362</td>\n",
       "      <td>3.665858</td>\n",
       "      <td>0.669205</td>\n",
       "      <td>1077.648844</td>\n",
       "      <td>87.303830</td>\n",
       "      <td>40.437456</td>\n",
       "      <td>36.417155</td>\n",
       "      <td>0.240810</td>\n",
       "    </tr>\n",
       "    <tr>\n",
       "      <th>std</th>\n",
       "      <td>13.640433</td>\n",
       "      <td>1.107194</td>\n",
       "      <td>1.055500e+05</td>\n",
       "      <td>3.870264</td>\n",
       "      <td>2.572720</td>\n",
       "      <td>1.506222</td>\n",
       "      <td>3.972708</td>\n",
       "      <td>1.606771</td>\n",
       "      <td>0.848806</td>\n",
       "      <td>0.470506</td>\n",
       "      <td>7385.292085</td>\n",
       "      <td>402.960219</td>\n",
       "      <td>12.347429</td>\n",
       "      <td>6.056047</td>\n",
       "      <td>0.427581</td>\n",
       "    </tr>\n",
       "    <tr>\n",
       "      <th>min</th>\n",
       "      <td>17.000000</td>\n",
       "      <td>0.000000</td>\n",
       "      <td>1.228500e+04</td>\n",
       "      <td>0.000000</td>\n",
       "      <td>1.000000</td>\n",
       "      <td>0.000000</td>\n",
       "      <td>0.000000</td>\n",
       "      <td>0.000000</td>\n",
       "      <td>0.000000</td>\n",
       "      <td>0.000000</td>\n",
       "      <td>0.000000</td>\n",
       "      <td>0.000000</td>\n",
       "      <td>1.000000</td>\n",
       "      <td>0.000000</td>\n",
       "      <td>0.000000</td>\n",
       "    </tr>\n",
       "    <tr>\n",
       "      <th>25%</th>\n",
       "      <td>28.000000</td>\n",
       "      <td>3.000000</td>\n",
       "      <td>1.178270e+05</td>\n",
       "      <td>9.000000</td>\n",
       "      <td>9.000000</td>\n",
       "      <td>2.000000</td>\n",
       "      <td>3.000000</td>\n",
       "      <td>0.000000</td>\n",
       "      <td>4.000000</td>\n",
       "      <td>0.000000</td>\n",
       "      <td>0.000000</td>\n",
       "      <td>0.000000</td>\n",
       "      <td>40.000000</td>\n",
       "      <td>38.000000</td>\n",
       "      <td>0.000000</td>\n",
       "    </tr>\n",
       "    <tr>\n",
       "      <th>50%</th>\n",
       "      <td>37.000000</td>\n",
       "      <td>3.000000</td>\n",
       "      <td>1.783560e+05</td>\n",
       "      <td>11.000000</td>\n",
       "      <td>10.000000</td>\n",
       "      <td>2.000000</td>\n",
       "      <td>6.000000</td>\n",
       "      <td>1.000000</td>\n",
       "      <td>4.000000</td>\n",
       "      <td>1.000000</td>\n",
       "      <td>0.000000</td>\n",
       "      <td>0.000000</td>\n",
       "      <td>40.000000</td>\n",
       "      <td>38.000000</td>\n",
       "      <td>0.000000</td>\n",
       "    </tr>\n",
       "    <tr>\n",
       "      <th>75%</th>\n",
       "      <td>48.000000</td>\n",
       "      <td>3.000000</td>\n",
       "      <td>2.370510e+05</td>\n",
       "      <td>12.000000</td>\n",
       "      <td>12.000000</td>\n",
       "      <td>4.000000</td>\n",
       "      <td>9.000000</td>\n",
       "      <td>3.000000</td>\n",
       "      <td>4.000000</td>\n",
       "      <td>1.000000</td>\n",
       "      <td>0.000000</td>\n",
       "      <td>0.000000</td>\n",
       "      <td>45.000000</td>\n",
       "      <td>38.000000</td>\n",
       "      <td>0.000000</td>\n",
       "    </tr>\n",
       "    <tr>\n",
       "      <th>max</th>\n",
       "      <td>90.000000</td>\n",
       "      <td>7.000000</td>\n",
       "      <td>1.484705e+06</td>\n",
       "      <td>15.000000</td>\n",
       "      <td>16.000000</td>\n",
       "      <td>6.000000</td>\n",
       "      <td>13.000000</td>\n",
       "      <td>5.000000</td>\n",
       "      <td>4.000000</td>\n",
       "      <td>1.000000</td>\n",
       "      <td>99999.000000</td>\n",
       "      <td>4356.000000</td>\n",
       "      <td>99.000000</td>\n",
       "      <td>40.000000</td>\n",
       "      <td>1.000000</td>\n",
       "    </tr>\n",
       "  </tbody>\n",
       "</table>\n",
       "</div>"
      ],
      "text/plain": [
       "                age     workclass        fnlwgt     education  education-num  \\\n",
       "count  32561.000000  32561.000000  3.256100e+04  32561.000000   32561.000000   \n",
       "mean      38.581647      3.094438  1.897784e+05     10.298210      10.080679   \n",
       "std       13.640433      1.107194  1.055500e+05      3.870264       2.572720   \n",
       "min       17.000000      0.000000  1.228500e+04      0.000000       1.000000   \n",
       "25%       28.000000      3.000000  1.178270e+05      9.000000       9.000000   \n",
       "50%       37.000000      3.000000  1.783560e+05     11.000000      10.000000   \n",
       "75%       48.000000      3.000000  2.370510e+05     12.000000      12.000000   \n",
       "max       90.000000      7.000000  1.484705e+06     15.000000      16.000000   \n",
       "\n",
       "       marital-status    occupation  relationship          race           sex  \\\n",
       "count    32561.000000  32561.000000  32561.000000  32561.000000  32561.000000   \n",
       "mean         2.611836      6.138755      1.446362      3.665858      0.669205   \n",
       "std          1.506222      3.972708      1.606771      0.848806      0.470506   \n",
       "min          0.000000      0.000000      0.000000      0.000000      0.000000   \n",
       "25%          2.000000      3.000000      0.000000      4.000000      0.000000   \n",
       "50%          2.000000      6.000000      1.000000      4.000000      1.000000   \n",
       "75%          4.000000      9.000000      3.000000      4.000000      1.000000   \n",
       "max          6.000000     13.000000      5.000000      4.000000      1.000000   \n",
       "\n",
       "       capital-gain  capital-loss  hours-per-week  native-country  \\\n",
       "count  32561.000000  32561.000000    32561.000000    32561.000000   \n",
       "mean    1077.648844     87.303830       40.437456       36.417155   \n",
       "std     7385.292085    402.960219       12.347429        6.056047   \n",
       "min        0.000000      0.000000        1.000000        0.000000   \n",
       "25%        0.000000      0.000000       40.000000       38.000000   \n",
       "50%        0.000000      0.000000       40.000000       38.000000   \n",
       "75%        0.000000      0.000000       45.000000       38.000000   \n",
       "max    99999.000000   4356.000000       99.000000       40.000000   \n",
       "\n",
       "             income  \n",
       "count  32561.000000  \n",
       "mean       0.240810  \n",
       "std        0.427581  \n",
       "min        0.000000  \n",
       "25%        0.000000  \n",
       "50%        0.000000  \n",
       "75%        0.000000  \n",
       "max        1.000000  "
      ]
     },
     "execution_count": 7,
     "metadata": {},
     "output_type": "execute_result"
    }
   ],
   "source": [
    "train_data.describe()"
   ]
  },
  {
   "cell_type": "code",
   "execution_count": 8,
   "metadata": {
    "executionInfo": {
     "elapsed": 7,
     "status": "ok",
     "timestamp": 1712224608956,
     "user": {
      "displayName": "asd asd",
      "userId": "01130884221395875875"
     },
     "user_tz": -480
    },
    "id": "5siWpJYXTgF5"
   },
   "outputs": [],
   "source": [
    "#移除無關欄位(fnlwgt、capital-gain、capital-loss)\n",
    "train_data.drop('fnlwgt', axis = 1, inplace = True)\n",
    "train_data.drop('capital-gain', axis = 1, inplace = True)\n",
    "train_data.drop('capital-loss', axis = 1, inplace = True)\n",
    "\n",
    "test_data.drop('fnlwgt', axis = 1, inplace = True)\n",
    "test_data.drop('capital-gain', axis = 1, inplace = True)\n",
    "test_data.drop('capital-loss', axis = 1, inplace = True)\n",
    "\n",
    "# 切割特徵和目標\n",
    "X_train = train_data.drop(\"hours-per-week\", axis=1)  # 删除 \"hours-per-week\" 列，得到特徵\n",
    "y_train = train_data[\"hours-per-week\"]  # 目標為 \"hours-per-week\" 列\n",
    "# 測試集\n",
    "X_test = train_data.drop(\"hours-per-week\", axis=1)  # 删除 \"hours-per-week\" 列，得到特徵\n",
    "y_test = train_data[\"hours-per-week\"]  # 目標為 \"hours-per-week\" 列"
   ]
  },
  {
   "cell_type": "code",
   "execution_count": 9,
   "metadata": {
    "executionInfo": {
     "elapsed": 7,
     "status": "ok",
     "timestamp": 1712224608956,
     "user": {
      "displayName": "asd asd",
      "userId": "01130884221395875875"
     },
     "user_tz": -480
    },
    "id": "slfB5aEvIqTP"
   },
   "outputs": [],
   "source": [
    "# 針對 訓練集 和 測試集的特徵值做正規化 & 標準化\n",
    "mean = X_train.mean(axis=0)\n",
    "X_train -= mean\n",
    "std = X_train.std(axis=0)\n",
    "X_train /= std\n",
    "X_test -= mean\n",
    "X_test /= std"
   ]
  },
  {
   "cell_type": "code",
   "execution_count": 10,
   "metadata": {
    "colab": {
     "base_uri": "https://localhost:8080/",
     "height": 834
    },
    "executionInfo": {
     "elapsed": 58682,
     "status": "ok",
     "timestamp": 1712224667631,
     "user": {
      "displayName": "asd asd",
      "userId": "01130884221395875875"
     },
     "user_tz": -480
    },
    "id": "SgiCxJ_MByqg",
    "outputId": "0b98d630-54f2-4b12-e0e0-7492fa7bff96"
   },
   "outputs": [
    {
     "name": "stdout",
     "output_type": "stream",
     "text": [
      "\u001b[1m814/814\u001b[0m \u001b[32m━━━━━━━━━━━━━━━━━━━━\u001b[0m\u001b[37m\u001b[0m \u001b[1m1s\u001b[0m 713us/step\n",
      "\u001b[1m204/204\u001b[0m \u001b[32m━━━━━━━━━━━━━━━━━━━━\u001b[0m\u001b[37m\u001b[0m \u001b[1m0s\u001b[0m 871us/step\n",
      "\u001b[1m815/815\u001b[0m \u001b[32m━━━━━━━━━━━━━━━━━━━━\u001b[0m\u001b[37m\u001b[0m \u001b[1m1s\u001b[0m 825us/step\n",
      "\u001b[1m204/204\u001b[0m \u001b[32m━━━━━━━━━━━━━━━━━━━━\u001b[0m\u001b[37m\u001b[0m \u001b[1m0s\u001b[0m 711us/step\n",
      "\u001b[1m815/815\u001b[0m \u001b[32m━━━━━━━━━━━━━━━━━━━━\u001b[0m\u001b[37m\u001b[0m \u001b[1m1s\u001b[0m 766us/step\n",
      "\u001b[1m204/204\u001b[0m \u001b[32m━━━━━━━━━━━━━━━━━━━━\u001b[0m\u001b[37m\u001b[0m \u001b[1m0s\u001b[0m 730us/step\n",
      "\u001b[1m815/815\u001b[0m \u001b[32m━━━━━━━━━━━━━━━━━━━━\u001b[0m\u001b[37m\u001b[0m \u001b[1m1s\u001b[0m 798us/step\n",
      "\u001b[1m204/204\u001b[0m \u001b[32m━━━━━━━━━━━━━━━━━━━━\u001b[0m\u001b[37m\u001b[0m \u001b[1m0s\u001b[0m 676us/step\n",
      "\u001b[1m815/815\u001b[0m \u001b[32m━━━━━━━━━━━━━━━━━━━━\u001b[0m\u001b[37m\u001b[0m \u001b[1m1s\u001b[0m 677us/step\n",
      "\u001b[1m204/204\u001b[0m \u001b[32m━━━━━━━━━━━━━━━━━━━━\u001b[0m\u001b[37m\u001b[0m \u001b[1m0s\u001b[0m 685us/step\n",
      "Total time elapsed: 29.17031979560852 seconds\n",
      "Mean Train Loss: 126.10516931658458\n",
      "Mean Train MAE: 7.806469352259356\n",
      "Mean Train MAPE: 33.35525713004579\n",
      "Mean Train RMSE: 11.229491714252363\n",
      "----------------------------------\n",
      "Mean Test Loss: 127.37253682438968\n",
      "Mean Test MAE: 7.844646992729096\n",
      "Mean Test MAPE: 33.499117183108254\n",
      "Mean Test RMSE: 11.285097273437353\n"
     ]
    },
    {
     "data": {
      "image/png": "[encoded data removed]",
      "text/plain": [
       "<Figure size 640x480 with 1 Axes>"
      ]
     },
     "metadata": {},
     "output_type": "display_data"
    }
   ],
   "source": [
    "import numpy as np\n",
    "import matplotlib.pyplot as plt\n",
    "from keras import layers\n",
    "from keras.models import Sequential\n",
    "from keras.regularizers import l2\n",
    "from sklearn.model_selection import KFold\n",
    "from sklearn.metrics import mean_absolute_error, mean_squared_error\n",
    "import time\n",
    "\n",
    "# 建立模型\n",
    "def build_regularized_model():\n",
    "     model = Sequential([\n",
    "         layers.Dense(64, activation=\"relu\", kernel_regularizer=l2(0.001)),\n",
    "         layers.Dense(64, activation=\"relu\", kernel_regularizer=l2(0.001)),\n",
    "         layers.Dense(1)\n",
    "     ])\n",
    "     model.compile(optimizer=\"adam\", loss=\"mse\")\n",
    "     return model\n",
    "\n",
    "# 定義 mean_absolute_percentage_error 函數\n",
    "def mean_absolute_percentage_error(y_true, y_pred):\n",
    "    y_true = np.squeeze(y_true)\n",
    "    y_pred = np.squeeze(y_pred)\n",
    "    non_zero_indices = y_true != 0\n",
    "    return np.mean(np.abs((y_true[non_zero_indices] - y_pred[non_zero_indices]) / y_true[non_zero_indices])) * 100\n",
    "\n",
    "\n",
    "# 準備資料集\n",
    "X = X_train  # 特徵數據\n",
    "y = y_train  # 目標數據\n",
    "\n",
    "# 選擇 k 折交叉驗證策略\n",
    "k = 5  # 5 折交叉驗證\n",
    "kf = KFold(n_splits=k, shuffle=True)\n",
    "\n",
    "# 執行交叉驗證\n",
    "all_train_losses = []\n",
    "all_train_mae = []\n",
    "all_train_mape = []\n",
    "all_train_rmse = []\n",
    "\n",
    "all_test_losses = []\n",
    "all_test_mae = []\n",
    "all_test_mape = []\n",
    "all_test_rmse = []\n",
    "\n",
    "start_time = time.time()  # 計時開始\n",
    "# 最終測試\n",
    "for train_index, test_index in kf.split(X):\n",
    "    # 建立模型\n",
    "    model = build_regularized_model()\n",
    "\n",
    "    X_train, X_test = X.iloc[train_index], X.iloc[test_index]\n",
    "    y_train, y_test = y.iloc[train_index], y.iloc[test_index]\n",
    "\n",
    "    # 訓練模型\n",
    "    history = model.fit(X_train, y_train, epochs=5, batch_size=32  , verbose=0)\n",
    "\n",
    "    # 評估模型表現 - 訓練集\n",
    "    y_train_pred = model.predict(X_train)\n",
    "    train_loss = mean_squared_error(y_train, y_train_pred)\n",
    "    train_mae = mean_absolute_error(y_train, y_train_pred)\n",
    "    train_mape = mean_absolute_percentage_error(y_train, y_train_pred)\n",
    "    train_rmse = np.sqrt(train_loss)\n",
    "\n",
    "    all_train_losses.append(train_loss)\n",
    "    all_train_mae.append(train_mae)\n",
    "    all_train_mape.append(train_mape)\n",
    "    all_train_rmse.append(train_rmse)\n",
    "\n",
    "    # 評估模型效能 - 測試集\n",
    "    y_test_pred = model.predict(X_test)\n",
    "    test_loss = mean_squared_error(y_test, y_test_pred)\n",
    "    test_mae = mean_absolute_error(y_test, y_test_pred)\n",
    "    test_mape = mean_absolute_percentage_error(y_test, y_test_pred)\n",
    "    test_rmse = np.sqrt(test_loss)\n",
    "\n",
    "    all_test_losses.append(test_loss)\n",
    "    all_test_mae.append(test_mae)\n",
    "    all_test_mape.append(test_mape)\n",
    "    all_test_rmse.append(test_rmse)\n",
    "\n",
    "# 計算訓練集和測試集上的平均表現指標\n",
    "mean_train_loss = np.mean(all_train_losses)\n",
    "mean_train_mae = np.mean(all_train_mae)\n",
    "mean_train_mape = np.mean(all_train_mape)\n",
    "mean_train_rmse = np.mean(all_train_rmse)\n",
    "\n",
    "mean_test_loss = np.mean(all_test_losses)\n",
    "mean_test_mae = np.mean(all_test_mae)\n",
    "mean_test_mape = np.mean(all_test_mape)\n",
    "mean_test_rmse = np.mean(all_test_rmse)\n",
    "\n",
    "end_time = time.time()  # 計時結束\n",
    "elapsed_time = end_time - start_time  # 經過時間\n",
    "print(\"Total time elapsed:\", elapsed_time, \"seconds\")\n",
    "\n",
    "print(\"Mean Train Loss:\", mean_train_loss)\n",
    "print(\"Mean Train MAE:\", mean_train_mae)\n",
    "print(\"Mean Train MAPE:\", mean_train_mape)\n",
    "print(\"Mean Train RMSE:\", mean_train_rmse)\n",
    "print(\"----------------------------------\")\n",
    "print(\"Mean Test Loss:\", mean_test_loss)\n",
    "print(\"Mean Test MAE:\", mean_test_mae)\n",
    "print(\"Mean Test MAPE:\", mean_test_mape)\n",
    "print(\"Mean Test RMSE:\", mean_test_rmse)\n",
    "\n",
    "# 繪製訓練集的 loss 與 epoch 圖表\n",
    "loss_values = history.history['loss']\n",
    "epochs = range(1, len(loss_values) + 1)\n",
    "\n",
    "plt.plot(epochs, loss_values, label='Training Loss')\n",
    "plt.title('Training Loss')\n",
    "plt.xlabel('Epochs')\n",
    "plt.ylabel('Loss')\n",
    "plt.legend()\n",
    "plt.show()"
   ]
  },
  {
   "cell_type": "code",
   "execution_count": 11,
   "metadata": {
    "colab": {
     "base_uri": "https://localhost:8080/"
    },
    "executionInfo": {
     "elapsed": 459,
     "status": "ok",
     "timestamp": 1712224668084,
     "user": {
      "displayName": "asd asd",
      "userId": "01130884221395875875"
     },
     "user_tz": -480
    },
    "id": "W18IeEJ4eJcy",
    "outputId": "63327506-3a04-4910-974a-15258aecd7aa"
   },
   "outputs": [
    {
     "name": "stdout",
     "output_type": "stream",
     "text": [
      "\u001b[1m204/204\u001b[0m \u001b[32m━━━━━━━━━━━━━━━━━━━━\u001b[0m\u001b[37m\u001b[0m \u001b[1m0s\u001b[0m 701us/step\n",
      "實際值\t\t預測值\n",
      "40\t42.22264862060547\n",
      "40\t37.203895568847656\n",
      "40\t46.03993225097656\n",
      "80\t45.233497619628906\n",
      "45\t45.564510345458984\n",
      "40\t36.056053161621094\n",
      "60\t44.183998107910156\n",
      "44\t35.20728302001953\n",
      "40\t35.31116485595703\n",
      "50\t46.475624084472656\n"
     ]
    }
   ],
   "source": [
    "# 設定要列印的行數\n",
    "num_rows_to_print = 10\n",
    "\n",
    "# 使用訓練好的模型對測試集進行預測\n",
    "predictions = model.predict(X_test)\n",
    "\n",
    "# 列印實際值和預測值\n",
    "print(\"實際值\\t\\t預測值\")\n",
    "for i in range(num_rows_to_print):\n",
    "    print(f\"{y_test.iloc[i]}\\t{predictions[i][0]}\")"
   ]
  }
 ],
 "metadata": {
  "colab": {
   "provenance": []
  },
  "kernelspec": {
   "display_name": "Python 3 (ipykernel)",
   "language": "python",
   "name": "python3"
  },
  "language_info": {
   "codemirror_mode": {
    "name": "ipython",
    "version": 3
   },
   "file_extension": ".py",
   "mimetype": "text/x-python",
   "name": "python",
   "nbconvert_exporter": "python",
   "pygments_lexer": "ipython3",
   "version": "3.9.13"
  }
 },
 "nbformat": 4,
 "nbformat_minor": 1
}
